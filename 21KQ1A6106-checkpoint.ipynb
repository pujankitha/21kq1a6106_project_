{
 "cells": [
  {
   "cell_type": "markdown",
   "metadata": {},
   "source": [
    "# Problem Statement"
   ]
  },
  {
   "cell_type": "markdown",
   "metadata": {},
   "source": [
    "Predicting Company Profit Based on Expenditure and State Information"
   ]
  },
  {
   "cell_type": "markdown",
   "metadata": {},
   "source": [
    "# Objective:"
   ]
  },
  {
   "cell_type": "markdown",
   "metadata": {},
   "source": [
    "The goal of this analysis is to build a predictive model that can accurately forecast a company's profit based on its expenditures in productivity, management, and promotions, as well as its state of operation. This model will aid in identifying the key drivers of profit and help companies optimize their budget allocations to maximize profitability.\n",
    "\n"
   ]
  },
  {
   "cell_type": "code",
   "execution_count": 2,
   "metadata": {},
   "outputs": [],
   "source": [
    "import numpy as np\n",
    "import pandas as pd\n",
    "import matplotlib.pyplot as plt\n",
    "import seaborn as sns\n",
    "from sklearn.model_selection import train_test_split\n",
    "from sklearn.linear_model import LinearRegression\n",
    "import pandas as pd\n",
    "import warnings\n",
    "warnings.filterwarnings('ignore')\n"
   ]
  },
  {
   "cell_type": "code",
   "execution_count": 3,
   "metadata": {},
   "outputs": [
    {
     "data": {
      "text/html": [
       "<div>\n",
       "<style scoped>\n",
       "    .dataframe tbody tr th:only-of-type {\n",
       "        vertical-align: middle;\n",
       "    }\n",
       "\n",
       "    .dataframe tbody tr th {\n",
       "        vertical-align: top;\n",
       "    }\n",
       "\n",
       "    .dataframe thead th {\n",
       "        text-align: right;\n",
       "    }\n",
       "</style>\n",
       "<table border=\"1\" class=\"dataframe\">\n",
       "  <thead>\n",
       "    <tr style=\"text-align: right;\">\n",
       "      <th></th>\n",
       "      <th>Productivity_Exp</th>\n",
       "      <th>Management_Exp</th>\n",
       "      <th>Promotions_Exp</th>\n",
       "      <th>State</th>\n",
       "      <th>Profit</th>\n",
       "    </tr>\n",
       "  </thead>\n",
       "  <tbody>\n",
       "    <tr>\n",
       "      <th>0</th>\n",
       "      <td>220349.20</td>\n",
       "      <td>236897.80</td>\n",
       "      <td>521784.10</td>\n",
       "      <td>Texas</td>\n",
       "      <td>242261.83</td>\n",
       "    </tr>\n",
       "    <tr>\n",
       "      <th>1</th>\n",
       "      <td>217597.70</td>\n",
       "      <td>251377.59</td>\n",
       "      <td>493898.53</td>\n",
       "      <td>Illinois</td>\n",
       "      <td>241792.06</td>\n",
       "    </tr>\n",
       "    <tr>\n",
       "      <th>2</th>\n",
       "      <td>208441.51</td>\n",
       "      <td>201145.55</td>\n",
       "      <td>457934.54</td>\n",
       "      <td>Washington</td>\n",
       "      <td>241050.39</td>\n",
       "    </tr>\n",
       "    <tr>\n",
       "      <th>3</th>\n",
       "      <td>199372.41</td>\n",
       "      <td>218671.85</td>\n",
       "      <td>433199.62</td>\n",
       "      <td>Texas</td>\n",
       "      <td>232901.99</td>\n",
       "    </tr>\n",
       "    <tr>\n",
       "      <th>4</th>\n",
       "      <td>197107.34</td>\n",
       "      <td>191391.77</td>\n",
       "      <td>416168.42</td>\n",
       "      <td>Washington</td>\n",
       "      <td>216187.94</td>\n",
       "    </tr>\n",
       "    <tr>\n",
       "      <th>5</th>\n",
       "      <td>186876.90</td>\n",
       "      <td>199814.71</td>\n",
       "      <td>412861.36</td>\n",
       "      <td>Texas</td>\n",
       "      <td>206991.12</td>\n",
       "    </tr>\n",
       "    <tr>\n",
       "      <th>6</th>\n",
       "      <td>189615.46</td>\n",
       "      <td>247198.87</td>\n",
       "      <td>177716.82</td>\n",
       "      <td>Illinois</td>\n",
       "      <td>206122.51</td>\n",
       "    </tr>\n",
       "    <tr>\n",
       "      <th>7</th>\n",
       "      <td>185298.13</td>\n",
       "      <td>245530.06</td>\n",
       "      <td>373876.68</td>\n",
       "      <td>Washington</td>\n",
       "      <td>205752.60</td>\n",
       "    </tr>\n",
       "    <tr>\n",
       "      <th>8</th>\n",
       "      <td>175542.52</td>\n",
       "      <td>248718.95</td>\n",
       "      <td>361613.29</td>\n",
       "      <td>Texas</td>\n",
       "      <td>202211.77</td>\n",
       "    </tr>\n",
       "    <tr>\n",
       "      <th>9</th>\n",
       "      <td>178334.88</td>\n",
       "      <td>208679.17</td>\n",
       "      <td>354981.62</td>\n",
       "      <td>Illinois</td>\n",
       "      <td>199759.96</td>\n",
       "    </tr>\n",
       "    <tr>\n",
       "      <th>10</th>\n",
       "      <td>156913.08</td>\n",
       "      <td>210594.11</td>\n",
       "      <td>279160.95</td>\n",
       "      <td>Washington</td>\n",
       "      <td>196121.95</td>\n",
       "    </tr>\n",
       "    <tr>\n",
       "      <th>11</th>\n",
       "      <td>155671.96</td>\n",
       "      <td>191790.61</td>\n",
       "      <td>299744.55</td>\n",
       "      <td>Illinois</td>\n",
       "      <td>194259.40</td>\n",
       "    </tr>\n",
       "    <tr>\n",
       "      <th>12</th>\n",
       "      <td>148863.75</td>\n",
       "      <td>227320.38</td>\n",
       "      <td>299839.44</td>\n",
       "      <td>Washington</td>\n",
       "      <td>191585.52</td>\n",
       "    </tr>\n",
       "    <tr>\n",
       "      <th>13</th>\n",
       "      <td>146992.39</td>\n",
       "      <td>235495.07</td>\n",
       "      <td>302664.93</td>\n",
       "      <td>Illinois</td>\n",
       "      <td>184307.35</td>\n",
       "    </tr>\n",
       "    <tr>\n",
       "      <th>14</th>\n",
       "      <td>174943.24</td>\n",
       "      <td>256547.42</td>\n",
       "      <td>306512.92</td>\n",
       "      <td>Washington</td>\n",
       "      <td>182602.65</td>\n",
       "    </tr>\n",
       "    <tr>\n",
       "      <th>15</th>\n",
       "      <td>169523.61</td>\n",
       "      <td>222616.84</td>\n",
       "      <td>311776.23</td>\n",
       "      <td>Texas</td>\n",
       "      <td>179917.04</td>\n",
       "    </tr>\n",
       "    <tr>\n",
       "      <th>16</th>\n",
       "      <td>133013.11</td>\n",
       "      <td>221597.55</td>\n",
       "      <td>314346.06</td>\n",
       "      <td>Illinois</td>\n",
       "      <td>176992.93</td>\n",
       "    </tr>\n",
       "    <tr>\n",
       "      <th>17</th>\n",
       "      <td>149657.16</td>\n",
       "      <td>245077.58</td>\n",
       "      <td>332574.31</td>\n",
       "      <td>Texas</td>\n",
       "      <td>175370.37</td>\n",
       "    </tr>\n",
       "    <tr>\n",
       "      <th>18</th>\n",
       "      <td>146749.16</td>\n",
       "      <td>214175.79</td>\n",
       "      <td>344919.57</td>\n",
       "      <td>Washington</td>\n",
       "      <td>174266.90</td>\n",
       "    </tr>\n",
       "    <tr>\n",
       "      <th>19</th>\n",
       "      <td>141419.70</td>\n",
       "      <td>253514.11</td>\n",
       "      <td>50000.00</td>\n",
       "      <td>Texas</td>\n",
       "      <td>172776.86</td>\n",
       "    </tr>\n",
       "    <tr>\n",
       "      <th>20</th>\n",
       "      <td>131253.86</td>\n",
       "      <td>213867.30</td>\n",
       "      <td>348664.47</td>\n",
       "      <td>Illinois</td>\n",
       "      <td>168474.03</td>\n",
       "    </tr>\n",
       "    <tr>\n",
       "      <th>21</th>\n",
       "      <td>133389.47</td>\n",
       "      <td>253773.43</td>\n",
       "      <td>349737.29</td>\n",
       "      <td>Texas</td>\n",
       "      <td>161313.02</td>\n",
       "    </tr>\n",
       "    <tr>\n",
       "      <th>22</th>\n",
       "      <td>128994.56</td>\n",
       "      <td>222782.75</td>\n",
       "      <td>353319.26</td>\n",
       "      <td>Washington</td>\n",
       "      <td>160352.25</td>\n",
       "    </tr>\n",
       "    <tr>\n",
       "      <th>23</th>\n",
       "      <td>122532.53</td>\n",
       "      <td>205751.03</td>\n",
       "      <td>354768.73</td>\n",
       "      <td>Washington</td>\n",
       "      <td>158733.99</td>\n",
       "    </tr>\n",
       "    <tr>\n",
       "      <th>24</th>\n",
       "      <td>132044.01</td>\n",
       "      <td>199281.34</td>\n",
       "      <td>190574.81</td>\n",
       "      <td>Texas</td>\n",
       "      <td>158552.04</td>\n",
       "    </tr>\n",
       "    <tr>\n",
       "      <th>25</th>\n",
       "      <td>119664.71</td>\n",
       "      <td>239553.16</td>\n",
       "      <td>187962.62</td>\n",
       "      <td>Illinois</td>\n",
       "      <td>157404.34</td>\n",
       "    </tr>\n",
       "    <tr>\n",
       "      <th>26</th>\n",
       "      <td>130328.87</td>\n",
       "      <td>244135.98</td>\n",
       "      <td>184050.07</td>\n",
       "      <td>Washington</td>\n",
       "      <td>155733.54</td>\n",
       "    </tr>\n",
       "    <tr>\n",
       "      <th>27</th>\n",
       "      <td>127107.60</td>\n",
       "      <td>227864.55</td>\n",
       "      <td>403183.81</td>\n",
       "      <td>Texas</td>\n",
       "      <td>155008.31</td>\n",
       "    </tr>\n",
       "    <tr>\n",
       "      <th>28</th>\n",
       "      <td>121051.52</td>\n",
       "      <td>282645.56</td>\n",
       "      <td>168148.20</td>\n",
       "      <td>Washington</td>\n",
       "      <td>153282.38</td>\n",
       "    </tr>\n",
       "    <tr>\n",
       "      <th>29</th>\n",
       "      <td>120605.48</td>\n",
       "      <td>253032.06</td>\n",
       "      <td>157138.38</td>\n",
       "      <td>Texas</td>\n",
       "      <td>151004.64</td>\n",
       "    </tr>\n",
       "    <tr>\n",
       "      <th>30</th>\n",
       "      <td>116994.48</td>\n",
       "      <td>215641.28</td>\n",
       "      <td>141131.24</td>\n",
       "      <td>Washington</td>\n",
       "      <td>149937.59</td>\n",
       "    </tr>\n",
       "    <tr>\n",
       "      <th>31</th>\n",
       "      <td>116136.38</td>\n",
       "      <td>252701.92</td>\n",
       "      <td>138218.23</td>\n",
       "      <td>Texas</td>\n",
       "      <td>147483.56</td>\n",
       "    </tr>\n",
       "    <tr>\n",
       "      <th>32</th>\n",
       "      <td>118408.86</td>\n",
       "      <td>229219.61</td>\n",
       "      <td>96085.25</td>\n",
       "      <td>Illinois</td>\n",
       "      <td>147427.84</td>\n",
       "    </tr>\n",
       "    <tr>\n",
       "      <th>33</th>\n",
       "      <td>110493.95</td>\n",
       "      <td>203057.49</td>\n",
       "      <td>264634.81</td>\n",
       "      <td>Washington</td>\n",
       "      <td>146778.92</td>\n",
       "    </tr>\n",
       "    <tr>\n",
       "      <th>34</th>\n",
       "      <td>101426.07</td>\n",
       "      <td>257693.92</td>\n",
       "      <td>260797.67</td>\n",
       "      <td>Illinois</td>\n",
       "      <td>146712.80</td>\n",
       "    </tr>\n",
       "    <tr>\n",
       "      <th>35</th>\n",
       "      <td>101014.02</td>\n",
       "      <td>185047.44</td>\n",
       "      <td>255517.64</td>\n",
       "      <td>Texas</td>\n",
       "      <td>146479.51</td>\n",
       "    </tr>\n",
       "    <tr>\n",
       "      <th>36</th>\n",
       "      <td>83663.76</td>\n",
       "      <td>227056.21</td>\n",
       "      <td>251126.82</td>\n",
       "      <td>Washington</td>\n",
       "      <td>140708.19</td>\n",
       "    </tr>\n",
       "    <tr>\n",
       "      <th>37</th>\n",
       "      <td>99069.95</td>\n",
       "      <td>151283.14</td>\n",
       "      <td>247029.42</td>\n",
       "      <td>Illinois</td>\n",
       "      <td>139949.14</td>\n",
       "    </tr>\n",
       "    <tr>\n",
       "      <th>38</th>\n",
       "      <td>75229.59</td>\n",
       "      <td>165947.93</td>\n",
       "      <td>235265.10</td>\n",
       "      <td>Texas</td>\n",
       "      <td>131229.06</td>\n",
       "    </tr>\n",
       "    <tr>\n",
       "      <th>39</th>\n",
       "      <td>93558.51</td>\n",
       "      <td>182982.09</td>\n",
       "      <td>224999.30</td>\n",
       "      <td>Illinois</td>\n",
       "      <td>131005.76</td>\n",
       "    </tr>\n",
       "    <tr>\n",
       "      <th>40</th>\n",
       "      <td>83754.33</td>\n",
       "      <td>218546.05</td>\n",
       "      <td>222795.67</td>\n",
       "      <td>Illinois</td>\n",
       "      <td>128239.91</td>\n",
       "    </tr>\n",
       "    <tr>\n",
       "      <th>41</th>\n",
       "      <td>82892.92</td>\n",
       "      <td>184710.77</td>\n",
       "      <td>214470.71</td>\n",
       "      <td>Washington</td>\n",
       "      <td>127798.83</td>\n",
       "    </tr>\n",
       "    <tr>\n",
       "      <th>42</th>\n",
       "      <td>78640.93</td>\n",
       "      <td>196189.63</td>\n",
       "      <td>198001.11</td>\n",
       "      <td>Illinois</td>\n",
       "      <td>121498.49</td>\n",
       "    </tr>\n",
       "    <tr>\n",
       "      <th>43</th>\n",
       "      <td>70505.73</td>\n",
       "      <td>227382.30</td>\n",
       "      <td>85534.17</td>\n",
       "      <td>Texas</td>\n",
       "      <td>119758.98</td>\n",
       "    </tr>\n",
       "    <tr>\n",
       "      <th>44</th>\n",
       "      <td>77177.74</td>\n",
       "      <td>254806.14</td>\n",
       "      <td>78334.72</td>\n",
       "      <td>Illinois</td>\n",
       "      <td>115200.33</td>\n",
       "    </tr>\n",
       "    <tr>\n",
       "      <th>45</th>\n",
       "      <td>56000.23</td>\n",
       "      <td>224153.04</td>\n",
       "      <td>51903.93</td>\n",
       "      <td>Texas</td>\n",
       "      <td>114926.08</td>\n",
       "    </tr>\n",
       "    <tr>\n",
       "      <th>46</th>\n",
       "      <td>56315.46</td>\n",
       "      <td>215816.21</td>\n",
       "      <td>347114.46</td>\n",
       "      <td>Washington</td>\n",
       "      <td>99490.75</td>\n",
       "    </tr>\n",
       "    <tr>\n",
       "      <th>47</th>\n",
       "      <td>55000.00</td>\n",
       "      <td>235426.92</td>\n",
       "      <td>50000.00</td>\n",
       "      <td>Illinois</td>\n",
       "      <td>92559.73</td>\n",
       "    </tr>\n",
       "    <tr>\n",
       "      <th>48</th>\n",
       "      <td>55542.05</td>\n",
       "      <td>151743.15</td>\n",
       "      <td>50000.00</td>\n",
       "      <td>Texas</td>\n",
       "      <td>85673.41</td>\n",
       "    </tr>\n",
       "    <tr>\n",
       "      <th>49</th>\n",
       "      <td>55000.00</td>\n",
       "      <td>216983.80</td>\n",
       "      <td>95173.06</td>\n",
       "      <td>Illinois</td>\n",
       "      <td>64681.40</td>\n",
       "    </tr>\n",
       "  </tbody>\n",
       "</table>\n",
       "</div>"
      ],
      "text/plain": [
       "    Productivity_Exp  Management_Exp  Promotions_Exp       State     Profit\n",
       "0          220349.20       236897.80       521784.10       Texas  242261.83\n",
       "1          217597.70       251377.59       493898.53    Illinois  241792.06\n",
       "2          208441.51       201145.55       457934.54  Washington  241050.39\n",
       "3          199372.41       218671.85       433199.62       Texas  232901.99\n",
       "4          197107.34       191391.77       416168.42  Washington  216187.94\n",
       "5          186876.90       199814.71       412861.36       Texas  206991.12\n",
       "6          189615.46       247198.87       177716.82    Illinois  206122.51\n",
       "7          185298.13       245530.06       373876.68  Washington  205752.60\n",
       "8          175542.52       248718.95       361613.29       Texas  202211.77\n",
       "9          178334.88       208679.17       354981.62    Illinois  199759.96\n",
       "10         156913.08       210594.11       279160.95  Washington  196121.95\n",
       "11         155671.96       191790.61       299744.55    Illinois  194259.40\n",
       "12         148863.75       227320.38       299839.44  Washington  191585.52\n",
       "13         146992.39       235495.07       302664.93    Illinois  184307.35\n",
       "14         174943.24       256547.42       306512.92  Washington  182602.65\n",
       "15         169523.61       222616.84       311776.23       Texas  179917.04\n",
       "16         133013.11       221597.55       314346.06    Illinois  176992.93\n",
       "17         149657.16       245077.58       332574.31       Texas  175370.37\n",
       "18         146749.16       214175.79       344919.57  Washington  174266.90\n",
       "19         141419.70       253514.11        50000.00       Texas  172776.86\n",
       "20         131253.86       213867.30       348664.47    Illinois  168474.03\n",
       "21         133389.47       253773.43       349737.29       Texas  161313.02\n",
       "22         128994.56       222782.75       353319.26  Washington  160352.25\n",
       "23         122532.53       205751.03       354768.73  Washington  158733.99\n",
       "24         132044.01       199281.34       190574.81       Texas  158552.04\n",
       "25         119664.71       239553.16       187962.62    Illinois  157404.34\n",
       "26         130328.87       244135.98       184050.07  Washington  155733.54\n",
       "27         127107.60       227864.55       403183.81       Texas  155008.31\n",
       "28         121051.52       282645.56       168148.20  Washington  153282.38\n",
       "29         120605.48       253032.06       157138.38       Texas  151004.64\n",
       "30         116994.48       215641.28       141131.24  Washington  149937.59\n",
       "31         116136.38       252701.92       138218.23       Texas  147483.56\n",
       "32         118408.86       229219.61        96085.25    Illinois  147427.84\n",
       "33         110493.95       203057.49       264634.81  Washington  146778.92\n",
       "34         101426.07       257693.92       260797.67    Illinois  146712.80\n",
       "35         101014.02       185047.44       255517.64       Texas  146479.51\n",
       "36          83663.76       227056.21       251126.82  Washington  140708.19\n",
       "37          99069.95       151283.14       247029.42    Illinois  139949.14\n",
       "38          75229.59       165947.93       235265.10       Texas  131229.06\n",
       "39          93558.51       182982.09       224999.30    Illinois  131005.76\n",
       "40          83754.33       218546.05       222795.67    Illinois  128239.91\n",
       "41          82892.92       184710.77       214470.71  Washington  127798.83\n",
       "42          78640.93       196189.63       198001.11    Illinois  121498.49\n",
       "43          70505.73       227382.30        85534.17       Texas  119758.98\n",
       "44          77177.74       254806.14        78334.72    Illinois  115200.33\n",
       "45          56000.23       224153.04        51903.93       Texas  114926.08\n",
       "46          56315.46       215816.21       347114.46  Washington   99490.75\n",
       "47          55000.00       235426.92        50000.00    Illinois   92559.73\n",
       "48          55542.05       151743.15        50000.00       Texas   85673.41\n",
       "49          55000.00       216983.80        95173.06    Illinois   64681.40"
      ]
     },
     "execution_count": 3,
     "metadata": {},
     "output_type": "execute_result"
    }
   ],
   "source": [
    "c=pd.read_csv(\"companies.csv\")\n",
    "c"
   ]
  },
  {
   "cell_type": "code",
   "execution_count": 4,
   "metadata": {},
   "outputs": [
    {
     "data": {
      "text/html": [
       "<div>\n",
       "<style scoped>\n",
       "    .dataframe tbody tr th:only-of-type {\n",
       "        vertical-align: middle;\n",
       "    }\n",
       "\n",
       "    .dataframe tbody tr th {\n",
       "        vertical-align: top;\n",
       "    }\n",
       "\n",
       "    .dataframe thead th {\n",
       "        text-align: right;\n",
       "    }\n",
       "</style>\n",
       "<table border=\"1\" class=\"dataframe\">\n",
       "  <thead>\n",
       "    <tr style=\"text-align: right;\">\n",
       "      <th></th>\n",
       "      <th>Productivity_Exp</th>\n",
       "      <th>Management_Exp</th>\n",
       "      <th>Promotions_Exp</th>\n",
       "      <th>State</th>\n",
       "      <th>Profit</th>\n",
       "    </tr>\n",
       "  </thead>\n",
       "  <tbody>\n",
       "    <tr>\n",
       "      <th>0</th>\n",
       "      <td>220349.20</td>\n",
       "      <td>236897.80</td>\n",
       "      <td>521784.10</td>\n",
       "      <td>Texas</td>\n",
       "      <td>242261.83</td>\n",
       "    </tr>\n",
       "    <tr>\n",
       "      <th>1</th>\n",
       "      <td>217597.70</td>\n",
       "      <td>251377.59</td>\n",
       "      <td>493898.53</td>\n",
       "      <td>Illinois</td>\n",
       "      <td>241792.06</td>\n",
       "    </tr>\n",
       "    <tr>\n",
       "      <th>2</th>\n",
       "      <td>208441.51</td>\n",
       "      <td>201145.55</td>\n",
       "      <td>457934.54</td>\n",
       "      <td>Washington</td>\n",
       "      <td>241050.39</td>\n",
       "    </tr>\n",
       "    <tr>\n",
       "      <th>3</th>\n",
       "      <td>199372.41</td>\n",
       "      <td>218671.85</td>\n",
       "      <td>433199.62</td>\n",
       "      <td>Texas</td>\n",
       "      <td>232901.99</td>\n",
       "    </tr>\n",
       "    <tr>\n",
       "      <th>4</th>\n",
       "      <td>197107.34</td>\n",
       "      <td>191391.77</td>\n",
       "      <td>416168.42</td>\n",
       "      <td>Washington</td>\n",
       "      <td>216187.94</td>\n",
       "    </tr>\n",
       "  </tbody>\n",
       "</table>\n",
       "</div>"
      ],
      "text/plain": [
       "   Productivity_Exp  Management_Exp  Promotions_Exp       State     Profit\n",
       "0         220349.20       236897.80       521784.10       Texas  242261.83\n",
       "1         217597.70       251377.59       493898.53    Illinois  241792.06\n",
       "2         208441.51       201145.55       457934.54  Washington  241050.39\n",
       "3         199372.41       218671.85       433199.62       Texas  232901.99\n",
       "4         197107.34       191391.77       416168.42  Washington  216187.94"
      ]
     },
     "execution_count": 4,
     "metadata": {},
     "output_type": "execute_result"
    }
   ],
   "source": [
    "c.head()"
   ]
  },
  {
   "cell_type": "code",
   "execution_count": 5,
   "metadata": {},
   "outputs": [
    {
     "data": {
      "text/plain": [
       "(50, 5)"
      ]
     },
     "execution_count": 5,
     "metadata": {},
     "output_type": "execute_result"
    }
   ],
   "source": [
    "c.shape"
   ]
  },
  {
   "cell_type": "code",
   "execution_count": 6,
   "metadata": {},
   "outputs": [
    {
     "data": {
      "text/html": [
       "<div>\n",
       "<style scoped>\n",
       "    .dataframe tbody tr th:only-of-type {\n",
       "        vertical-align: middle;\n",
       "    }\n",
       "\n",
       "    .dataframe tbody tr th {\n",
       "        vertical-align: top;\n",
       "    }\n",
       "\n",
       "    .dataframe thead th {\n",
       "        text-align: right;\n",
       "    }\n",
       "</style>\n",
       "<table border=\"1\" class=\"dataframe\">\n",
       "  <thead>\n",
       "    <tr style=\"text-align: right;\">\n",
       "      <th></th>\n",
       "      <th>Productivity_Exp</th>\n",
       "      <th>Management_Exp</th>\n",
       "      <th>Promotions_Exp</th>\n",
       "      <th>Profit</th>\n",
       "    </tr>\n",
       "  </thead>\n",
       "  <tbody>\n",
       "    <tr>\n",
       "      <th>count</th>\n",
       "      <td>50.000000</td>\n",
       "      <td>50.000000</td>\n",
       "      <td>50.000000</td>\n",
       "      <td>50.000000</td>\n",
       "    </tr>\n",
       "    <tr>\n",
       "      <th>mean</th>\n",
       "      <td>128721.615600</td>\n",
       "      <td>221344.639600</td>\n",
       "      <td>261025.097800</td>\n",
       "      <td>162012.639200</td>\n",
       "    </tr>\n",
       "    <tr>\n",
       "      <th>std</th>\n",
       "      <td>45902.256482</td>\n",
       "      <td>28017.802755</td>\n",
       "      <td>122290.310726</td>\n",
       "      <td>40306.180338</td>\n",
       "    </tr>\n",
       "    <tr>\n",
       "      <th>min</th>\n",
       "      <td>55000.000000</td>\n",
       "      <td>151283.140000</td>\n",
       "      <td>50000.000000</td>\n",
       "      <td>64681.400000</td>\n",
       "    </tr>\n",
       "    <tr>\n",
       "      <th>25%</th>\n",
       "      <td>94936.370000</td>\n",
       "      <td>203730.875000</td>\n",
       "      <td>179300.132500</td>\n",
       "      <td>140138.902500</td>\n",
       "    </tr>\n",
       "    <tr>\n",
       "      <th>50%</th>\n",
       "      <td>128051.080000</td>\n",
       "      <td>222699.795000</td>\n",
       "      <td>262716.240000</td>\n",
       "      <td>157978.190000</td>\n",
       "    </tr>\n",
       "    <tr>\n",
       "      <th>75%</th>\n",
       "      <td>156602.800000</td>\n",
       "      <td>244842.180000</td>\n",
       "      <td>349469.085000</td>\n",
       "      <td>189765.977500</td>\n",
       "    </tr>\n",
       "    <tr>\n",
       "      <th>max</th>\n",
       "      <td>220349.200000</td>\n",
       "      <td>282645.560000</td>\n",
       "      <td>521784.100000</td>\n",
       "      <td>242261.830000</td>\n",
       "    </tr>\n",
       "  </tbody>\n",
       "</table>\n",
       "</div>"
      ],
      "text/plain": [
       "       Productivity_Exp  Management_Exp  Promotions_Exp         Profit\n",
       "count         50.000000       50.000000       50.000000      50.000000\n",
       "mean      128721.615600   221344.639600   261025.097800  162012.639200\n",
       "std        45902.256482    28017.802755   122290.310726   40306.180338\n",
       "min        55000.000000   151283.140000    50000.000000   64681.400000\n",
       "25%        94936.370000   203730.875000   179300.132500  140138.902500\n",
       "50%       128051.080000   222699.795000   262716.240000  157978.190000\n",
       "75%       156602.800000   244842.180000   349469.085000  189765.977500\n",
       "max       220349.200000   282645.560000   521784.100000  242261.830000"
      ]
     },
     "execution_count": 6,
     "metadata": {},
     "output_type": "execute_result"
    }
   ],
   "source": [
    "c.describe()"
   ]
  },
  {
   "cell_type": "markdown",
   "metadata": {},
   "source": [
    "# Data Understanding\n"
   ]
  },
  {
   "cell_type": "markdown",
   "metadata": {},
   "source": [
    "# 1.Dictionary"
   ]
  },
  {
   "cell_type": "markdown",
   "metadata": {},
   "source": [
    "1. Productivity_Exp: This column seems to represent expenditure or investment in productivity-related activities.\n",
    "1. Management_Exp: This column likely represents expenditure or investment in management-related activities.\n",
    "1. Promotions_Exp: This column appears to represent expenditure or investment in promotional activities.\n",
    "1. State: This column denotes the state where the entity is located.\n",
    "1. Profit: This column represents the profit generated by each entity.\n"
   ]
  },
  {
   "cell_type": "markdown",
   "metadata": {},
   "source": [
    "# 2.Intial Check up"
   ]
  },
  {
   "cell_type": "code",
   "execution_count": 7,
   "metadata": {
    "scrolled": true
   },
   "outputs": [
    {
     "name": "stdout",
     "output_type": "stream",
     "text": [
      "<class 'pandas.core.frame.DataFrame'>\n",
      "RangeIndex: 50 entries, 0 to 49\n",
      "Data columns (total 5 columns):\n",
      " #   Column            Non-Null Count  Dtype  \n",
      "---  ------            --------------  -----  \n",
      " 0   Productivity_Exp  50 non-null     float64\n",
      " 1   Management_Exp    50 non-null     float64\n",
      " 2   Promotions_Exp    50 non-null     float64\n",
      " 3   State             50 non-null     object \n",
      " 4   Profit            50 non-null     float64\n",
      "dtypes: float64(4), object(1)\n",
      "memory usage: 2.1+ KB\n"
     ]
    }
   ],
   "source": [
    "c.info()"
   ]
  },
  {
   "cell_type": "markdown",
   "metadata": {},
   "source": [
    "# 3.Asking Quetion to Data"
   ]
  },
  {
   "cell_type": "code",
   "execution_count": 8,
   "metadata": {},
   "outputs": [],
   "source": [
    "###1. Which state have highest profit\n",
    "###2. What are the best Productivity_Expenditure\n",
    "###3. What are the best Management_Expenditure\n",
    "###4. What are the best Promotions_Expenditure\n",
    "###5. which state have highest Management_Expenditure\n",
    "###6. which state have highest Productivity_Expenditure\n",
    "###7. which state have highest Promotions_Expenditure"
   ]
  },
  {
   "cell_type": "markdown",
   "metadata": {},
   "source": [
    "# 4. Univariate analysis"
   ]
  },
  {
   "cell_type": "code",
   "execution_count": 9,
   "metadata": {},
   "outputs": [
    {
     "data": {
      "text/plain": [
       "Productivity_Exp    0\n",
       "Management_Exp      0\n",
       "Promotions_Exp      0\n",
       "State               0\n",
       "Profit              0\n",
       "dtype: int64"
      ]
     },
     "execution_count": 9,
     "metadata": {},
     "output_type": "execute_result"
    }
   ],
   "source": [
    "c.isnull().sum().sort_values(ascending = False)"
   ]
  },
  {
   "cell_type": "markdown",
   "metadata": {},
   "source": [
    "# Correlation"
   ]
  },
  {
   "cell_type": "code",
   "execution_count": 10,
   "metadata": {},
   "outputs": [
    {
     "data": {
      "text/html": [
       "<div>\n",
       "<style scoped>\n",
       "    .dataframe tbody tr th:only-of-type {\n",
       "        vertical-align: middle;\n",
       "    }\n",
       "\n",
       "    .dataframe tbody tr th {\n",
       "        vertical-align: top;\n",
       "    }\n",
       "\n",
       "    .dataframe thead th {\n",
       "        text-align: right;\n",
       "    }\n",
       "</style>\n",
       "<table border=\"1\" class=\"dataframe\">\n",
       "  <thead>\n",
       "    <tr style=\"text-align: right;\">\n",
       "      <th></th>\n",
       "      <th>Productivity_Exp</th>\n",
       "      <th>Management_Exp</th>\n",
       "      <th>Promotions_Exp</th>\n",
       "      <th>Profit</th>\n",
       "    </tr>\n",
       "  </thead>\n",
       "  <tbody>\n",
       "    <tr>\n",
       "      <th>Productivity_Exp</th>\n",
       "      <td>1.000000</td>\n",
       "      <td>0.241955</td>\n",
       "      <td>0.724248</td>\n",
       "      <td>0.972900</td>\n",
       "    </tr>\n",
       "    <tr>\n",
       "      <th>Management_Exp</th>\n",
       "      <td>0.241955</td>\n",
       "      <td>1.000000</td>\n",
       "      <td>-0.032154</td>\n",
       "      <td>0.200717</td>\n",
       "    </tr>\n",
       "    <tr>\n",
       "      <th>Promotions_Exp</th>\n",
       "      <td>0.724248</td>\n",
       "      <td>-0.032154</td>\n",
       "      <td>1.000000</td>\n",
       "      <td>0.747766</td>\n",
       "    </tr>\n",
       "    <tr>\n",
       "      <th>Profit</th>\n",
       "      <td>0.972900</td>\n",
       "      <td>0.200717</td>\n",
       "      <td>0.747766</td>\n",
       "      <td>1.000000</td>\n",
       "    </tr>\n",
       "  </tbody>\n",
       "</table>\n",
       "</div>"
      ],
      "text/plain": [
       "                  Productivity_Exp  Management_Exp  Promotions_Exp    Profit\n",
       "Productivity_Exp          1.000000        0.241955        0.724248  0.972900\n",
       "Management_Exp            0.241955        1.000000       -0.032154  0.200717\n",
       "Promotions_Exp            0.724248       -0.032154        1.000000  0.747766\n",
       "Profit                    0.972900        0.200717        0.747766  1.000000"
      ]
     },
     "execution_count": 10,
     "metadata": {},
     "output_type": "execute_result"
    }
   ],
   "source": [
    "c.corr() #the correlation explains how one or more variables are related to each other"
   ]
  },
  {
   "cell_type": "code",
   "execution_count": 11,
   "metadata": {},
   "outputs": [
    {
     "name": "stdout",
     "output_type": "stream",
     "text": [
      "correlation cofficent between x and y: 0.9729004656594828\n"
     ]
    }
   ],
   "source": [
    "v=c['Productivity_Exp'].corr(c['Profit'])\n",
    "print('correlation cofficent between x and y:',v)"
   ]
  },
  {
   "cell_type": "markdown",
   "metadata": {},
   "source": [
    "# Pairplot()"
   ]
  },
  {
   "cell_type": "code",
   "execution_count": 12,
   "metadata": {},
   "outputs": [
    {
     "data": {
      "text/plain": [
       "<seaborn.axisgrid.PairGrid at 0x25514dfbf28>"
      ]
     },
     "execution_count": 12,
     "metadata": {},
     "output_type": "execute_result"
    },
    {
     "data": {
      "image/png": "[encoded data removed]",
      "text/plain": [
       "<Figure size 720x720 with 20 Axes>"
      ]
     },
     "metadata": {
      "needs_background": "light"
     },
     "output_type": "display_data"
    }
   ],
   "source": [
    "sns.pairplot(c,vars=('Productivity_Exp','Management_Exp','Promotions_Exp','Profit'))"
   ]
  },
  {
   "cell_type": "code",
   "execution_count": 13,
   "metadata": {
    "scrolled": true
   },
   "outputs": [
    {
     "data": {
      "text/plain": [
       "<AxesSubplot:xlabel='Productivity_Exp', ylabel='Profit'>"
      ]
     },
     "execution_count": 13,
     "metadata": {},
     "output_type": "execute_result"
    },
    {
     "data": {
      "image/png": "[encoded data removed]",
      "text/plain": [
       "<Figure size 432x288 with 1 Axes>"
      ]
     },
     "metadata": {
      "needs_background": "light"
     },
     "output_type": "display_data"
    }
   ],
   "source": [
    "sns.scatterplot(data=c,x=\"Productivity_Exp\",y=\"Profit\",hue=\"State\")"
   ]
  },
  {
   "cell_type": "markdown",
   "metadata": {},
   "source": [
    "which state have highest Management_Expenditure"
   ]
  },
  {
   "cell_type": "code",
   "execution_count": 14,
   "metadata": {},
   "outputs": [
    {
     "data": {
      "text/plain": [
       "<AxesSubplot:xlabel='State', ylabel='Management_Exp'>"
      ]
     },
     "execution_count": 14,
     "metadata": {},
     "output_type": "execute_result"
    },
    {
     "data": {
      "image/png": "[encoded data removed]",
      "text/plain": [
       "<Figure size 432x288 with 1 Axes>"
      ]
     },
     "metadata": {
      "needs_background": "light"
     },
     "output_type": "display_data"
    }
   ],
   "source": [
    "sns.scatterplot(data=c,x=\"State\",y=\"Management_Exp\")"
   ]
  },
  {
   "cell_type": "markdown",
   "metadata": {},
   "source": [
    "which state have highest Productivity_Expenditure"
   ]
  },
  {
   "cell_type": "code",
   "execution_count": 15,
   "metadata": {},
   "outputs": [
    {
     "data": {
      "text/plain": [
       "<AxesSubplot:xlabel='State', ylabel='Productivity_Exp'>"
      ]
     },
     "execution_count": 15,
     "metadata": {},
     "output_type": "execute_result"
    },
    {
     "data": {
      "image/png": "[encoded data removed]",
      "text/plain": [
       "<Figure size 432x288 with 1 Axes>"
      ]
     },
     "metadata": {
      "needs_background": "light"
     },
     "output_type": "display_data"
    }
   ],
   "source": [
    "sns.lineplot(data=c,x=\"State\",y=\"Productivity_Exp\")"
   ]
  },
  {
   "cell_type": "markdown",
   "metadata": {},
   "source": [
    " which state have highest Promotions_Expenditure"
   ]
  },
  {
   "cell_type": "code",
   "execution_count": 16,
   "metadata": {},
   "outputs": [
    {
     "data": {
      "text/plain": [
       "<AxesSubplot:xlabel='State', ylabel='Promotions_Exp'>"
      ]
     },
     "execution_count": 16,
     "metadata": {},
     "output_type": "execute_result"
    },
    {
     "data": {
      "image/png": "[encoded data removed]",
      "text/plain": [
       "<Figure size 432x288 with 1 Axes>"
      ]
     },
     "metadata": {
      "needs_background": "light"
     },
     "output_type": "display_data"
    }
   ],
   "source": [
    "sns.lineplot(data=c,x=\"State\",y=\"Promotions_Exp\")"
   ]
  },
  {
   "cell_type": "markdown",
   "metadata": {},
   "source": [
    "What are the best Management_Expenditure"
   ]
  },
  {
   "cell_type": "code",
   "execution_count": 17,
   "metadata": {},
   "outputs": [
    {
     "data": {
      "text/plain": [
       "<AxesSubplot:xlabel='Management_Exp', ylabel='Density'>"
      ]
     },
     "execution_count": 17,
     "metadata": {},
     "output_type": "execute_result"
    },
    {
     "data": {
      "image/png": "[encoded data removed]",
      "text/plain": [
       "<Figure size 432x288 with 1 Axes>"
      ]
     },
     "metadata": {
      "needs_background": "light"
     },
     "output_type": "display_data"
    }
   ],
   "source": [
    "sns.kdeplot(data=c,x=\"Management_Exp\")"
   ]
  },
  {
   "cell_type": "markdown",
   "metadata": {},
   "source": [
    " What are the best Productivity_Expenditure"
   ]
  },
  {
   "cell_type": "code",
   "execution_count": 18,
   "metadata": {
    "scrolled": true
   },
   "outputs": [
    {
     "data": {
      "text/plain": [
       "<AxesSubplot:xlabel='Productivity_Exp', ylabel='Count'>"
      ]
     },
     "execution_count": 18,
     "metadata": {},
     "output_type": "execute_result"
    },
    {
     "data": {
      "image/png": "[encoded data removed]",
      "text/plain": [
       "<Figure size 432x288 with 1 Axes>"
      ]
     },
     "metadata": {
      "needs_background": "light"
     },
     "output_type": "display_data"
    }
   ],
   "source": [
    "sns.histplot(data=c,x=\"Productivity_Exp\")"
   ]
  },
  {
   "cell_type": "markdown",
   "metadata": {},
   "source": [
    "What are the best Promotions_Expenditure"
   ]
  },
  {
   "cell_type": "code",
   "execution_count": 19,
   "metadata": {},
   "outputs": [
    {
     "data": {
      "text/plain": [
       "<seaborn.axisgrid.FacetGrid at 0x25517bc4438>"
      ]
     },
     "execution_count": 19,
     "metadata": {},
     "output_type": "execute_result"
    },
    {
     "data": {
      "image/png": "[encoded data removed]",
      "text/plain": [
       "<Figure size 360x360 with 1 Axes>"
      ]
     },
     "metadata": {
      "needs_background": "light"
     },
     "output_type": "display_data"
    }
   ],
   "source": [
    "sns.displot(data=c,x=\"Promotions_Exp\")"
   ]
  },
  {
   "cell_type": "markdown",
   "metadata": {},
   "source": [
    "# iloc"
   ]
  },
  {
   "cell_type": "code",
   "execution_count": 20,
   "metadata": {},
   "outputs": [
    {
     "data": {
      "text/html": [
       "<div>\n",
       "<style scoped>\n",
       "    .dataframe tbody tr th:only-of-type {\n",
       "        vertical-align: middle;\n",
       "    }\n",
       "\n",
       "    .dataframe tbody tr th {\n",
       "        vertical-align: top;\n",
       "    }\n",
       "\n",
       "    .dataframe thead th {\n",
       "        text-align: right;\n",
       "    }\n",
       "</style>\n",
       "<table border=\"1\" class=\"dataframe\">\n",
       "  <thead>\n",
       "    <tr style=\"text-align: right;\">\n",
       "      <th></th>\n",
       "      <th>Productivity_Exp</th>\n",
       "      <th>Management_Exp</th>\n",
       "      <th>Promotions_Exp</th>\n",
       "      <th>State</th>\n",
       "      <th>Profit</th>\n",
       "    </tr>\n",
       "  </thead>\n",
       "  <tbody>\n",
       "    <tr>\n",
       "      <th>0</th>\n",
       "      <td>220349.20</td>\n",
       "      <td>236897.80</td>\n",
       "      <td>521784.10</td>\n",
       "      <td>Texas</td>\n",
       "      <td>242261.83</td>\n",
       "    </tr>\n",
       "    <tr>\n",
       "      <th>1</th>\n",
       "      <td>217597.70</td>\n",
       "      <td>251377.59</td>\n",
       "      <td>493898.53</td>\n",
       "      <td>Illinois</td>\n",
       "      <td>241792.06</td>\n",
       "    </tr>\n",
       "    <tr>\n",
       "      <th>2</th>\n",
       "      <td>208441.51</td>\n",
       "      <td>201145.55</td>\n",
       "      <td>457934.54</td>\n",
       "      <td>Washington</td>\n",
       "      <td>241050.39</td>\n",
       "    </tr>\n",
       "    <tr>\n",
       "      <th>3</th>\n",
       "      <td>199372.41</td>\n",
       "      <td>218671.85</td>\n",
       "      <td>433199.62</td>\n",
       "      <td>Texas</td>\n",
       "      <td>232901.99</td>\n",
       "    </tr>\n",
       "  </tbody>\n",
       "</table>\n",
       "</div>"
      ],
      "text/plain": [
       "   Productivity_Exp  Management_Exp  Promotions_Exp       State     Profit\n",
       "0         220349.20       236897.80       521784.10       Texas  242261.83\n",
       "1         217597.70       251377.59       493898.53    Illinois  241792.06\n",
       "2         208441.51       201145.55       457934.54  Washington  241050.39\n",
       "3         199372.41       218671.85       433199.62       Texas  232901.99"
      ]
     },
     "execution_count": 20,
     "metadata": {},
     "output_type": "execute_result"
    }
   ],
   "source": [
    "c.iloc[:4]  #helps us to select a specific row or column from the data set."
   ]
  },
  {
   "cell_type": "markdown",
   "metadata": {},
   "source": [
    "# Train Test model"
   ]
  },
  {
   "cell_type": "code",
   "execution_count": 21,
   "metadata": {},
   "outputs": [],
   "source": [
    "x=c.iloc[:,0:1]\n",
    "y=c.iloc[:,-1]"
   ]
  },
  {
   "cell_type": "code",
   "execution_count": 22,
   "metadata": {},
   "outputs": [
    {
     "data": {
      "text/html": [
       "<div>\n",
       "<style scoped>\n",
       "    .dataframe tbody tr th:only-of-type {\n",
       "        vertical-align: middle;\n",
       "    }\n",
       "\n",
       "    .dataframe tbody tr th {\n",
       "        vertical-align: top;\n",
       "    }\n",
       "\n",
       "    .dataframe thead th {\n",
       "        text-align: right;\n",
       "    }\n",
       "</style>\n",
       "<table border=\"1\" class=\"dataframe\">\n",
       "  <thead>\n",
       "    <tr style=\"text-align: right;\">\n",
       "      <th></th>\n",
       "      <th>Productivity_Exp</th>\n",
       "    </tr>\n",
       "  </thead>\n",
       "  <tbody>\n",
       "    <tr>\n",
       "      <th>0</th>\n",
       "      <td>220349.20</td>\n",
       "    </tr>\n",
       "    <tr>\n",
       "      <th>1</th>\n",
       "      <td>217597.70</td>\n",
       "    </tr>\n",
       "    <tr>\n",
       "      <th>2</th>\n",
       "      <td>208441.51</td>\n",
       "    </tr>\n",
       "    <tr>\n",
       "      <th>3</th>\n",
       "      <td>199372.41</td>\n",
       "    </tr>\n",
       "    <tr>\n",
       "      <th>4</th>\n",
       "      <td>197107.34</td>\n",
       "    </tr>\n",
       "  </tbody>\n",
       "</table>\n",
       "</div>"
      ],
      "text/plain": [
       "   Productivity_Exp\n",
       "0         220349.20\n",
       "1         217597.70\n",
       "2         208441.51\n",
       "3         199372.41\n",
       "4         197107.34"
      ]
     },
     "execution_count": 22,
     "metadata": {},
     "output_type": "execute_result"
    }
   ],
   "source": [
    "x[:5]"
   ]
  },
  {
   "cell_type": "code",
   "execution_count": 23,
   "metadata": {},
   "outputs": [
    {
     "data": {
      "text/plain": [
       "0    242261.83\n",
       "1    241792.06\n",
       "2    241050.39\n",
       "3    232901.99\n",
       "4    216187.94\n",
       "Name: Profit, dtype: float64"
      ]
     },
     "execution_count": 23,
     "metadata": {},
     "output_type": "execute_result"
    }
   ],
   "source": [
    "y[:5]"
   ]
  },
  {
   "cell_type": "code",
   "execution_count": 24,
   "metadata": {},
   "outputs": [],
   "source": [
    "# Split the data into training and testing sets\n",
    "x_train, x_test, y_train, y_test = train_test_split(x, y, test_size=0.2, random_state=42)"
   ]
  },
  {
   "cell_type": "code",
   "execution_count": 25,
   "metadata": {},
   "outputs": [
    {
     "data": {
      "text/plain": [
       "(40, 1)"
      ]
     },
     "execution_count": 25,
     "metadata": {},
     "output_type": "execute_result"
    }
   ],
   "source": [
    "x_train.shape"
   ]
  },
  {
   "cell_type": "code",
   "execution_count": 26,
   "metadata": {},
   "outputs": [
    {
     "data": {
      "text/plain": [
       "(10, 1)"
      ]
     },
     "execution_count": 26,
     "metadata": {},
     "output_type": "execute_result"
    }
   ],
   "source": [
    "x_test.shape"
   ]
  },
  {
   "cell_type": "code",
   "execution_count": 27,
   "metadata": {},
   "outputs": [
    {
     "data": {
      "text/html": [
       "<div>\n",
       "<style scoped>\n",
       "    .dataframe tbody tr th:only-of-type {\n",
       "        vertical-align: middle;\n",
       "    }\n",
       "\n",
       "    .dataframe tbody tr th {\n",
       "        vertical-align: top;\n",
       "    }\n",
       "\n",
       "    .dataframe thead th {\n",
       "        text-align: right;\n",
       "    }\n",
       "</style>\n",
       "<table border=\"1\" class=\"dataframe\">\n",
       "  <thead>\n",
       "    <tr style=\"text-align: right;\">\n",
       "      <th></th>\n",
       "      <th>Productivity_Exp</th>\n",
       "    </tr>\n",
       "  </thead>\n",
       "  <tbody>\n",
       "    <tr>\n",
       "      <th>12</th>\n",
       "      <td>148863.75</td>\n",
       "    </tr>\n",
       "    <tr>\n",
       "      <th>4</th>\n",
       "      <td>197107.34</td>\n",
       "    </tr>\n",
       "    <tr>\n",
       "      <th>37</th>\n",
       "      <td>99069.95</td>\n",
       "    </tr>\n",
       "    <tr>\n",
       "      <th>8</th>\n",
       "      <td>175542.52</td>\n",
       "    </tr>\n",
       "    <tr>\n",
       "      <th>3</th>\n",
       "      <td>199372.41</td>\n",
       "    </tr>\n",
       "  </tbody>\n",
       "</table>\n",
       "</div>"
      ],
      "text/plain": [
       "    Productivity_Exp\n",
       "12         148863.75\n",
       "4          197107.34\n",
       "37          99069.95\n",
       "8          175542.52\n",
       "3          199372.41"
      ]
     },
     "execution_count": 27,
     "metadata": {},
     "output_type": "execute_result"
    }
   ],
   "source": [
    "x_train.head()"
   ]
  },
  {
   "cell_type": "code",
   "execution_count": 28,
   "metadata": {},
   "outputs": [
    {
     "data": {
      "text/html": [
       "<div>\n",
       "<style scoped>\n",
       "    .dataframe tbody tr th:only-of-type {\n",
       "        vertical-align: middle;\n",
       "    }\n",
       "\n",
       "    .dataframe tbody tr th {\n",
       "        vertical-align: top;\n",
       "    }\n",
       "\n",
       "    .dataframe thead th {\n",
       "        text-align: right;\n",
       "    }\n",
       "</style>\n",
       "<table border=\"1\" class=\"dataframe\">\n",
       "  <thead>\n",
       "    <tr style=\"text-align: right;\">\n",
       "      <th></th>\n",
       "      <th>Productivity_Exp</th>\n",
       "    </tr>\n",
       "  </thead>\n",
       "  <tbody>\n",
       "    <tr>\n",
       "      <th>13</th>\n",
       "      <td>146992.39</td>\n",
       "    </tr>\n",
       "    <tr>\n",
       "      <th>39</th>\n",
       "      <td>93558.51</td>\n",
       "    </tr>\n",
       "    <tr>\n",
       "      <th>30</th>\n",
       "      <td>116994.48</td>\n",
       "    </tr>\n",
       "    <tr>\n",
       "      <th>45</th>\n",
       "      <td>56000.23</td>\n",
       "    </tr>\n",
       "    <tr>\n",
       "      <th>17</th>\n",
       "      <td>149657.16</td>\n",
       "    </tr>\n",
       "  </tbody>\n",
       "</table>\n",
       "</div>"
      ],
      "text/plain": [
       "    Productivity_Exp\n",
       "13         146992.39\n",
       "39          93558.51\n",
       "30         116994.48\n",
       "45          56000.23\n",
       "17         149657.16"
      ]
     },
     "execution_count": 28,
     "metadata": {},
     "output_type": "execute_result"
    }
   ],
   "source": [
    "x_test.head()"
   ]
  },
  {
   "cell_type": "markdown",
   "metadata": {},
   "source": [
    "# Linear Regression"
   ]
  },
  {
   "cell_type": "code",
   "execution_count": 29,
   "metadata": {},
   "outputs": [
    {
     "data": {
      "text/plain": [
       "LinearRegression(copy_X=True, fit_intercept=True, n_jobs=None,\n",
       "         normalize=False)"
      ]
     },
     "execution_count": 29,
     "metadata": {},
     "output_type": "execute_result"
    }
   ],
   "source": [
    "lr=LinearRegression()\n",
    "lr"
   ]
  },
  {
   "cell_type": "markdown",
   "metadata": {},
   "source": [
    "# Fit()"
   ]
  },
  {
   "cell_type": "code",
   "execution_count": 30,
   "metadata": {},
   "outputs": [
    {
     "data": {
      "text/plain": [
       "LinearRegression(copy_X=True, fit_intercept=True, n_jobs=None,\n",
       "         normalize=False)"
      ]
     },
     "execution_count": 30,
     "metadata": {},
     "output_type": "execute_result"
    }
   ],
   "source": [
    "lr.fit(x_train,y_train)"
   ]
  },
  {
   "cell_type": "code",
   "execution_count": 31,
   "metadata": {},
   "outputs": [
    {
     "data": {
      "text/plain": [
       "array([0.85360911])"
      ]
     },
     "execution_count": 31,
     "metadata": {},
     "output_type": "execute_result"
    }
   ],
   "source": [
    "lr.coef_"
   ]
  },
  {
   "cell_type": "code",
   "execution_count": 32,
   "metadata": {},
   "outputs": [
    {
     "data": {
      "text/plain": [
       "52388.16712467272"
      ]
     },
     "execution_count": 32,
     "metadata": {},
     "output_type": "execute_result"
    }
   ],
   "source": [
    "lr.intercept_"
   ]
  },
  {
   "cell_type": "code",
   "execution_count": 33,
   "metadata": {},
   "outputs": [
    {
     "data": {
      "text/plain": [
       "array([52399.26404307])"
      ]
     },
     "execution_count": 33,
     "metadata": {},
     "output_type": "execute_result"
    }
   ],
   "source": [
    "lr.predict([[13]])"
   ]
  },
  {
   "cell_type": "code",
   "execution_count": 34,
   "metadata": {},
   "outputs": [
    {
     "data": {
      "text/html": [
       "<div>\n",
       "<style scoped>\n",
       "    .dataframe tbody tr th:only-of-type {\n",
       "        vertical-align: middle;\n",
       "    }\n",
       "\n",
       "    .dataframe tbody tr th {\n",
       "        vertical-align: top;\n",
       "    }\n",
       "\n",
       "    .dataframe thead th {\n",
       "        text-align: right;\n",
       "    }\n",
       "</style>\n",
       "<table border=\"1\" class=\"dataframe\">\n",
       "  <thead>\n",
       "    <tr style=\"text-align: right;\">\n",
       "      <th></th>\n",
       "      <th>Productivity_Exp</th>\n",
       "      <th>Management_Exp</th>\n",
       "      <th>Promotions_Exp</th>\n",
       "      <th>State</th>\n",
       "      <th>Profit</th>\n",
       "    </tr>\n",
       "  </thead>\n",
       "  <tbody>\n",
       "    <tr>\n",
       "      <th>0</th>\n",
       "      <td>220349.20</td>\n",
       "      <td>236897.80</td>\n",
       "      <td>521784.10</td>\n",
       "      <td>Texas</td>\n",
       "      <td>242261.83</td>\n",
       "    </tr>\n",
       "    <tr>\n",
       "      <th>1</th>\n",
       "      <td>217597.70</td>\n",
       "      <td>251377.59</td>\n",
       "      <td>493898.53</td>\n",
       "      <td>Illinois</td>\n",
       "      <td>241792.06</td>\n",
       "    </tr>\n",
       "    <tr>\n",
       "      <th>2</th>\n",
       "      <td>208441.51</td>\n",
       "      <td>201145.55</td>\n",
       "      <td>457934.54</td>\n",
       "      <td>Washington</td>\n",
       "      <td>241050.39</td>\n",
       "    </tr>\n",
       "    <tr>\n",
       "      <th>3</th>\n",
       "      <td>199372.41</td>\n",
       "      <td>218671.85</td>\n",
       "      <td>433199.62</td>\n",
       "      <td>Texas</td>\n",
       "      <td>232901.99</td>\n",
       "    </tr>\n",
       "    <tr>\n",
       "      <th>4</th>\n",
       "      <td>197107.34</td>\n",
       "      <td>191391.77</td>\n",
       "      <td>416168.42</td>\n",
       "      <td>Washington</td>\n",
       "      <td>216187.94</td>\n",
       "    </tr>\n",
       "  </tbody>\n",
       "</table>\n",
       "</div>"
      ],
      "text/plain": [
       "   Productivity_Exp  Management_Exp  Promotions_Exp       State     Profit\n",
       "0         220349.20       236897.80       521784.10       Texas  242261.83\n",
       "1         217597.70       251377.59       493898.53    Illinois  241792.06\n",
       "2         208441.51       201145.55       457934.54  Washington  241050.39\n",
       "3         199372.41       218671.85       433199.62       Texas  232901.99\n",
       "4         197107.34       191391.77       416168.42  Washington  216187.94"
      ]
     },
     "execution_count": 34,
     "metadata": {},
     "output_type": "execute_result"
    }
   ],
   "source": [
    "c.head()"
   ]
  },
  {
   "cell_type": "code",
   "execution_count": 35,
   "metadata": {},
   "outputs": [
    {
     "data": {
      "text/plain": [
       "Text(0, 0.5, 'Management_Exp')"
      ]
     },
     "execution_count": 35,
     "metadata": {},
     "output_type": "execute_result"
    },
    {
     "data": {
      "image/png": "[encoded data removed]",
      "text/plain": [
       "<Figure size 432x288 with 1 Axes>"
      ]
     },
     "metadata": {
      "needs_background": "light"
     },
     "output_type": "display_data"
    }
   ],
   "source": [
    "plt.scatter(c['Profit'],c['Management_Exp'],color='orange')\n",
    "plt.plot(x_train,lr.predict(x_train),color='green')\n",
    "plt.xlabel('Profit')\n",
    "plt.ylabel('Management_Exp')"
   ]
  },
  {
   "cell_type": "markdown",
   "metadata": {},
   "source": [
    "# Model Evalution"
   ]
  },
  {
   "cell_type": "code",
   "execution_count": 36,
   "metadata": {},
   "outputs": [],
   "source": [
    "from sklearn.metrics import mean_absolute_error,mean_squared_error,r2_score"
   ]
  },
  {
   "cell_type": "code",
   "execution_count": 37,
   "metadata": {},
   "outputs": [],
   "source": [
    "y_pred = lr.predict(x_test)"
   ]
  },
  {
   "cell_type": "code",
   "execution_count": 38,
   "metadata": {},
   "outputs": [
    {
     "data": {
      "text/plain": [
       "array([184307.35, 131005.76, 149937.59, 114926.08, 175370.37,  85673.41,\n",
       "       155733.54, 157404.34, 147427.84, 172776.86])"
      ]
     },
     "execution_count": 38,
     "metadata": {},
     "output_type": "execute_result"
    }
   ],
   "source": [
    "y_test.values"
   ]
  },
  {
   "cell_type": "markdown",
   "metadata": {},
   "source": [
    "# MAE"
   ]
  },
  {
   "cell_type": "code",
   "execution_count": 39,
   "metadata": {},
   "outputs": [
    {
     "data": {
      "text/plain": [
       "6077.363300620386"
      ]
     },
     "execution_count": 39,
     "metadata": {},
     "output_type": "execute_result"
    }
   ],
   "source": [
    "mean_absolute_error(y_test,y_pred)"
   ]
  },
  {
   "cell_type": "markdown",
   "metadata": {},
   "source": [
    "# MSE"
   ]
  },
  {
   "cell_type": "code",
   "execution_count": 40,
   "metadata": {},
   "outputs": [
    {
     "data": {
      "text/plain": [
       "59510962.80787983"
      ]
     },
     "execution_count": 40,
     "metadata": {},
     "output_type": "execute_result"
    }
   ],
   "source": [
    "mean_squared_error(y_test,y_pred)"
   ]
  },
  {
   "cell_type": "markdown",
   "metadata": {},
   "source": [
    "# RMSE"
   ]
  },
  {
   "cell_type": "code",
   "execution_count": 41,
   "metadata": {},
   "outputs": [
    {
     "data": {
      "text/html": [
       "<div>\n",
       "<style scoped>\n",
       "    .dataframe tbody tr th:only-of-type {\n",
       "        vertical-align: middle;\n",
       "    }\n",
       "\n",
       "    .dataframe tbody tr th {\n",
       "        vertical-align: top;\n",
       "    }\n",
       "\n",
       "    .dataframe thead th {\n",
       "        text-align: right;\n",
       "    }\n",
       "</style>\n",
       "<table border=\"1\" class=\"dataframe\">\n",
       "  <thead>\n",
       "    <tr style=\"text-align: right;\">\n",
       "      <th></th>\n",
       "      <th>Actual(y_test)</th>\n",
       "      <th>Predicted(y_pred)</th>\n",
       "    </tr>\n",
       "  </thead>\n",
       "  <tbody>\n",
       "    <tr>\n",
       "      <th>13</th>\n",
       "      <td>184307.35</td>\n",
       "      <td>177862.209964</td>\n",
       "    </tr>\n",
       "    <tr>\n",
       "      <th>39</th>\n",
       "      <td>131005.76</td>\n",
       "      <td>132250.563346</td>\n",
       "    </tr>\n",
       "    <tr>\n",
       "      <th>30</th>\n",
       "      <td>149937.59</td>\n",
       "      <td>152255.720782</td>\n",
       "    </tr>\n",
       "    <tr>\n",
       "      <th>45</th>\n",
       "      <td>114926.08</td>\n",
       "      <td>100190.473476</td>\n",
       "    </tr>\n",
       "    <tr>\n",
       "      <th>17</th>\n",
       "      <td>175370.37</td>\n",
       "      <td>180136.881905</td>\n",
       "    </tr>\n",
       "  </tbody>\n",
       "</table>\n",
       "</div>"
      ],
      "text/plain": [
       "    Actual(y_test)  Predicted(y_pred)\n",
       "13       184307.35      177862.209964\n",
       "39       131005.76      132250.563346\n",
       "30       149937.59      152255.720782\n",
       "45       114926.08      100190.473476\n",
       "17       175370.37      180136.881905"
      ]
     },
     "execution_count": 41,
     "metadata": {},
     "output_type": "execute_result"
    }
   ],
   "source": [
    "MSE= mean_squared_error(y_test, y_pred)\n",
    "RMSE=MSE**0.5\n",
    "data_rmse={\"Actual(y_test)\":y_test,\"Predicted(y_pred)\":y_pred}\n",
    "c_rmse=pd.DataFrame(data_rmse)\n",
    "c_rmse.head() "
   ]
  },
  {
   "cell_type": "markdown",
   "metadata": {},
   "source": [
    "Which state have highest profit"
   ]
  },
  {
   "cell_type": "code",
   "execution_count": 42,
   "metadata": {},
   "outputs": [
    {
     "data": {
      "text/plain": [
       "<AxesSubplot:xlabel='Profit', ylabel='State'>"
      ]
     },
     "execution_count": 42,
     "metadata": {},
     "output_type": "execute_result"
    },
    {
     "data": {
      "image/png": "[encoded data removed]",
      "text/plain": [
       "<Figure size 432x288 with 1 Axes>"
      ]
     },
     "metadata": {
      "needs_background": "light"
     },
     "output_type": "display_data"
    }
   ],
   "source": [
    "sns.scatterplot(data=c,x=\"Profit\",y=\"State\") "
   ]
  },
  {
   "cell_type": "markdown",
   "metadata": {},
   "source": [
    "Similarly, you could explore the relationship between management experience (Management_Exp) and profit.\n"
   ]
  },
  {
   "cell_type": "code",
   "execution_count": 43,
   "metadata": {},
   "outputs": [
    {
     "data": {
      "image/png": "[encoded data removed]",
      "text/plain": [
       "<Figure size 432x288 with 1 Axes>"
      ]
     },
     "metadata": {
      "needs_background": "light"
     },
     "output_type": "display_data"
    }
   ],
   "source": [
    "# Plot the relationship between management experience and profit\n",
    "plt.scatter(x_test, y_test, color='orange', label='Actual')\n",
    "plt.plot(x_test, y_pred, color='green', linewidth=2, label='Predicted')\n",
    "plt.title('Relationship between Management Experience and Profit')\n",
    "plt.legend()\n",
    "plt.show()"
   ]
  },
  {
   "cell_type": "code",
   "execution_count": 23,
   "metadata": {},
   "outputs": [
    {
     "name": "stdout",
     "output_type": "stream",
     "text": [
      "Coefficients: [0.85360911]\n",
      "Intercept: 52388.16712467272\n"
     ]
    }
   ],
   "source": [
    "# Print the coefficients and intercept of the linear regression model\n",
    "print(\"Coefficients:\", model.coef_)\n",
    "print(\"Intercept:\", model.intercept_)\n"
   ]
  },
  {
   "cell_type": "markdown",
   "metadata": {},
   "source": [
    "How does profit vary across different states"
   ]
  },
  {
   "cell_type": "code",
   "execution_count": 32,
   "metadata": {
    "scrolled": false
   },
   "outputs": [
    {
     "data": {
      "text/plain": [
       "Text(0.5, 1.0, 'Profit Variations Across Different States')"
      ]
     },
     "execution_count": 32,
     "metadata": {},
     "output_type": "execute_result"
    },
    {
     "data": {
      "image/png": "[encoded data removed]",
      "text/plain": [
       "<Figure size 432x288 with 1 Axes>"
      ]
     },
     "metadata": {
      "needs_background": "light"
     },
     "output_type": "display_data"
    }
   ],
   "source": [
    "sns.lineplot(x='State', y='Profit', data=c)\n",
    "plt.title('Profit Variations Across Different States')"
   ]
  },
  {
   "cell_type": "markdown",
   "metadata": {},
   "source": [
    "How does productivity compare across different states"
   ]
  },
  {
   "cell_type": "code",
   "execution_count": 33,
   "metadata": {},
   "outputs": [
    {
     "data": {
      "text/plain": [
       "Text(0.5, 1.0, 'Productivity Comparison Across Different States')"
      ]
     },
     "execution_count": 33,
     "metadata": {},
     "output_type": "execute_result"
    },
    {
     "data": {
      "image/png": "[encoded data removed]",
      "text/plain": [
       "<Figure size 432x288 with 1 Axes>"
      ]
     },
     "metadata": {
      "needs_background": "light"
     },
     "output_type": "display_data"
    }
   ],
   "source": [
    "# Plotting productivity comparison across different states using seaborn\n",
    "sns.stripplot(x='State', y='Productivity_Exp', data=c)\n",
    "plt.title('Productivity Comparison Across Different States')"
   ]
  },
  {
   "cell_type": "markdown",
   "metadata": {},
   "source": [
    "# Conclusion"
   ]
  },
  {
   "cell_type": "markdown",
   "metadata": {},
   "source": [
    "In summary, the project provided valuable insights into the relationship between companies' experience levels and their performance outcomes. By leveraging machine learning techniques, we gained actionable insights that can inform strategic decisions and resource allocations within organizations. Further exploration and refinement of predictive models could yield even more accurate insights, contributing to better-informed business strategies in the future.\n",
    "\n",
    "\n",
    "\n"
   ]
  }
 ],
 "metadata": {
  "kernelspec": {
   "display_name": "Python 3",
   "language": "python",
   "name": "python3"
  },
  "language_info": {
   "codemirror_mode": {
    "name": "ipython",
    "version": 3
   },
   "file_extension": ".py",
   "mimetype": "text/x-python",
   "name": "python",
   "nbconvert_exporter": "python",
   "pygments_lexer": "ipython3",
   "version": "3.7.1"
  }
 },
 "nbformat": 4,
 "nbformat_minor": 2
}
